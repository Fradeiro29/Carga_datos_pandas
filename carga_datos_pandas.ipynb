{
 "cells": [
  {
   "cell_type": "markdown",
   "id": "eadf123a",
   "metadata": {},
   "source": [
    "# Importación de librerías"
   ]
  },
  {
   "cell_type": "code",
   "execution_count": 14,
   "id": "76f93e7e",
   "metadata": {},
   "outputs": [],
   "source": [
    "import pandas as pd # importar la biblioteca pandas"
   ]
  },
  {
   "cell_type": "markdown",
   "id": "eca9ff44",
   "metadata": {},
   "source": [
    "# Importación de datos"
   ]
  },
  {
   "cell_type": "code",
   "execution_count": 15,
   "id": "5c08cfa8",
   "metadata": {},
   "outputs": [],
   "source": [
    "df = pd.read_csv('Mall_Customers.csv') # Cargar datos desde un archivo CSV"
   ]
  },
  {
   "cell_type": "markdown",
   "id": "bb2d71e1",
   "metadata": {},
   "source": [
    "# Visualización de datos"
   ]
  },
  {
   "cell_type": "markdown",
   "id": "aad5a645",
   "metadata": {},
   "source": [
    "## Primeras 5 filas"
   ]
  },
  {
   "cell_type": "code",
   "execution_count": 16,
   "id": "2dd1964d",
   "metadata": {},
   "outputs": [
    {
     "name": "stdout",
     "output_type": "stream",
     "text": [
      "   CustomerID  Gender  Age  Annual Income (k$)  Spending Score (1-100)\n",
      "0           1    Male   19                  15                      39\n",
      "1           2    Male   21                  15                      81\n",
      "2           3  Female   20                  16                       6\n",
      "3           4  Female   23                  16                      77\n",
      "4           5  Female   31                  17                      40\n"
     ]
    }
   ],
   "source": [
    "print(df.head()) # Primeras 5 filas de datos"
   ]
  },
  {
   "cell_type": "markdown",
   "id": "3a209c06",
   "metadata": {},
   "source": [
    "## Selección de las variables annual income y spending score para las primeras 15 observaciones"
   ]
  },
  {
   "cell_type": "code",
   "execution_count": 17,
   "id": "525c9691",
   "metadata": {},
   "outputs": [
    {
     "name": "stdout",
     "output_type": "stream",
     "text": [
      "    Annual Income (k$)  Spending Score (1-100)\n",
      "0                   15                      39\n",
      "1                   15                      81\n",
      "2                   16                       6\n",
      "3                   16                      77\n",
      "4                   17                      40\n",
      "5                   17                      76\n",
      "6                   18                       6\n",
      "7                   18                      94\n",
      "8                   19                       3\n",
      "9                   19                      72\n",
      "10                  19                      14\n",
      "11                  19                      99\n",
      "12                  20                      15\n",
      "13                  20                      77\n",
      "14                  20                      13\n"
     ]
    }
   ],
   "source": [
    "print(df.loc[0:14, ['Annual Income (k$)', 'Spending Score (1-100)']]) # Selección de las variables annual income y spending score para las primeras 15 observaciones."
   ]
  },
  {
   "cell_type": "markdown",
   "id": "f9665573",
   "metadata": {},
   "source": [
    "## Selección de las primeras 5 mujeres con mayor annual income"
   ]
  },
  {
   "cell_type": "code",
   "execution_count": 18,
   "id": "3125d441",
   "metadata": {},
   "outputs": [
    {
     "name": "stdout",
     "output_type": "stream",
     "text": [
      "     CustomerID  Gender  Age  Annual Income (k$)  Spending Score (1-100)\n",
      "196         197  Female   45                 126                      28\n",
      "194         195  Female   47                 120                      16\n",
      "195         196  Female   35                 120                      79\n",
      "193         194  Female   38                 113                      91\n",
      "191         192  Female   32                 103                      69\n"
     ]
    }
   ],
   "source": [
    "print(df[df['Gender'] == 'Female'].sort_values(by='Annual Income (k$)', ascending=False).iloc[0:5, :]) # Selección de las primeras 5 mujeres con mayor annual income."
   ]
  },
  {
   "cell_type": "markdown",
   "id": "ab2026ef",
   "metadata": {},
   "source": [
    "# Obtención de estadisticas básicas con la función describe() de Pandas\n",
    "\n",
    "Con ayuda del promedio y la desviación estandar se puede ver que la edad de los consumidores de este centro comercial suele rondar entre 24 y 52 años aproximadamente."
   ]
  },
  {
   "cell_type": "code",
   "execution_count": 19,
   "id": "911b5a49",
   "metadata": {},
   "outputs": [
    {
     "name": "stdout",
     "output_type": "stream",
     "text": [
      "       CustomerID         Age  Annual Income (k$)  Spending Score (1-100)\n",
      "count  200.000000  200.000000          200.000000              200.000000\n",
      "mean   100.500000   38.850000           60.560000               50.200000\n",
      "std     57.879185   13.969007           26.264721               25.823522\n",
      "min      1.000000   18.000000           15.000000                1.000000\n",
      "25%     50.750000   28.750000           41.500000               34.750000\n",
      "50%    100.500000   36.000000           61.500000               50.000000\n",
      "75%    150.250000   49.000000           78.000000               73.000000\n",
      "max    200.000000   70.000000          137.000000               99.000000\n"
     ]
    }
   ],
   "source": [
    "print(df.describe()) # Obtención de estadisticas básicas con la función describe() de Pandas"
   ]
  }
 ],
 "metadata": {
  "kernelspec": {
   "display_name": "Python 3",
   "language": "python",
   "name": "python3"
  },
  "language_info": {
   "codemirror_mode": {
    "name": "ipython",
    "version": 3
   },
   "file_extension": ".py",
   "mimetype": "text/x-python",
   "name": "python",
   "nbconvert_exporter": "python",
   "pygments_lexer": "ipython3",
   "version": "3.13.7"
  }
 },
 "nbformat": 4,
 "nbformat_minor": 5
}
